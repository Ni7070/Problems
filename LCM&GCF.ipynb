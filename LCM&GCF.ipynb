{
  "nbformat": 4,
  "nbformat_minor": 0,
  "metadata": {
    "colab": {
      "name": "LCM&GCF.ipynb",
      "provenance": [],
      "authorship_tag": "ABX9TyNmo+7iM8Tt/HLOGeu90sKU",
      "include_colab_link": true
    },
    "kernelspec": {
      "name": "python3",
      "display_name": "Python 3"
    },
    "language_info": {
      "name": "python"
    }
  },
  "cells": [
    {
      "cell_type": "markdown",
      "metadata": {
        "id": "view-in-github",
        "colab_type": "text"
      },
      "source": [
        "<a href=\"https://colab.research.google.com/github/Ni7070/Problems/blob/master/LCM%26GCF.ipynb\" target=\"_parent\"><img src=\"https://colab.research.google.com/assets/colab-badge.svg\" alt=\"Open In Colab\"/></a>"
      ]
    },
    {
      "cell_type": "code",
      "metadata": {
        "id": "KZleM6sAXOZS"
      },
      "source": [
        "def prime(x):\n",
        "  if num>1:\n",
        "    for i in range(2, int(x/2)+1):\n",
        "      if x%i==0:\n",
        "        return False\n",
        "        break\n",
        "        \n",
        "    else:\n",
        "      return True\n",
        "  else:\n",
        "    return False\n",
        "\n"
      ],
      "execution_count": 30,
      "outputs": []
    },
    {
      "cell_type": "code",
      "metadata": {
        "colab": {
          "base_uri": "https://localhost:8080/"
        },
        "id": "VBPNC6GzUJoR",
        "outputId": "677b2408-fc79-466d-cbcc-36b7dd91abb3"
      },
      "source": [
        "def LCM(p, q):\n",
        "  if prime(p)==True and prime(q)== True:\n",
        "    lcm = p*q\n",
        "  elif prime(p)==True and q%p==0:\n",
        "    lcm = q\n",
        "  elif prime(q)==True and p%q==0:\n",
        "    lcm = p\n",
        "  else:\n",
        "    greater=max(p,q)\n",
        "    while True:\n",
        "      if greater%p==0 and greater%q==0:\n",
        "        lcm = greater\n",
        "        break\n",
        "      greater += 1\n",
        "  print(lcm)\n",
        "\n",
        "LCM(int(input()), int(input()))"
      ],
      "execution_count": 51,
      "outputs": [
        {
          "output_type": "stream",
          "text": [
            "6\n",
            "7\n",
            "42\n"
          ],
          "name": "stdout"
        }
      ]
    },
    {
      "cell_type": "code",
      "metadata": {
        "colab": {
          "base_uri": "https://localhost:8080/"
        },
        "id": "jtF9xmUekdAG",
        "outputId": "3729de12-47fd-45f5-f6a7-3701aced907f"
      },
      "source": [
        "def GCF(p,q):\n",
        "  if prime(p)==True and prime(q)== True:\n",
        "    gcf=1\n",
        "  elif prime(p)==True and q%p==0:\n",
        "    gcf=p\n",
        "  elif prime(q)==True and p%q==0:\n",
        "    gcf=q\n",
        "  else:\n",
        "    lesser=min(p,q)\n",
        "    for i in range(1, lesser+1):\n",
        "      if p%i==0 and q%i==0:\n",
        "        gcf=i\n",
        "  print(gcf)\n",
        "\n",
        "GCF(int(input()), int(input()))\n"
      ],
      "execution_count": 49,
      "outputs": [
        {
          "output_type": "stream",
          "text": [
            "60\n",
            "48\n",
            "12\n"
          ],
          "name": "stdout"
        }
      ]
    },
    {
      "cell_type": "code",
      "metadata": {
        "colab": {
          "base_uri": "https://localhost:8080/",
          "height": 384
        },
        "id": "hx9QNDtXp8Vx",
        "outputId": "369992f1-3202-43d7-dc5f-663111ae623b"
      },
      "source": [
        "#Recursive\n",
        "def recGCF(a,b):\n",
        "  if a == 0:\n",
        "    return b\n",
        "  return (b%a, a)\n",
        "def recLCM(a, b):\n",
        "  return ((a / recGCF(a,b))* b)\n",
        "\n",
        "# reclcm = recLCM(int(input()),int(input())) \n",
        "# recgcf = recGCF(int(input()),int(input())) \n",
        "print(\"LCM: \", recLCM(int(input()), int(input())))\n",
        "# print(\"GCF: \", recgcf)\n",
        "\n"
      ],
      "execution_count": 58,
      "outputs": [
        {
          "output_type": "stream",
          "text": [
            "6\n",
            "7\n"
          ],
          "name": "stdout"
        },
        {
          "output_type": "error",
          "ename": "TypeError",
          "evalue": "ignored",
          "traceback": [
            "\u001b[0;31m---------------------------------------------------------------------------\u001b[0m",
            "\u001b[0;31mTypeError\u001b[0m                                 Traceback (most recent call last)",
            "\u001b[0;32m<ipython-input-58-5d5a4f271eed>\u001b[0m in \u001b[0;36m<module>\u001b[0;34m()\u001b[0m\n\u001b[1;32m      9\u001b[0m \u001b[0;31m# reclcm = recLCM(int(input()),int(input()))\u001b[0m\u001b[0;34m\u001b[0m\u001b[0;34m\u001b[0m\u001b[0;34m\u001b[0m\u001b[0m\n\u001b[1;32m     10\u001b[0m \u001b[0;31m# recgcf = recGCF(int(input()),int(input()))\u001b[0m\u001b[0;34m\u001b[0m\u001b[0;34m\u001b[0m\u001b[0;34m\u001b[0m\u001b[0m\n\u001b[0;32m---> 11\u001b[0;31m \u001b[0mprint\u001b[0m\u001b[0;34m(\u001b[0m\u001b[0;34m\"LCM: \"\u001b[0m\u001b[0;34m,\u001b[0m \u001b[0mrecLCM\u001b[0m\u001b[0;34m(\u001b[0m\u001b[0mint\u001b[0m\u001b[0;34m(\u001b[0m\u001b[0minput\u001b[0m\u001b[0;34m(\u001b[0m\u001b[0;34m)\u001b[0m\u001b[0;34m)\u001b[0m\u001b[0;34m,\u001b[0m \u001b[0mint\u001b[0m\u001b[0;34m(\u001b[0m\u001b[0minput\u001b[0m\u001b[0;34m(\u001b[0m\u001b[0;34m)\u001b[0m\u001b[0;34m)\u001b[0m\u001b[0;34m)\u001b[0m\u001b[0;34m)\u001b[0m\u001b[0;34m\u001b[0m\u001b[0;34m\u001b[0m\u001b[0m\n\u001b[0m\u001b[1;32m     12\u001b[0m \u001b[0;31m# print(\"GCF: \", recgcf)\u001b[0m\u001b[0;34m\u001b[0m\u001b[0;34m\u001b[0m\u001b[0;34m\u001b[0m\u001b[0m\n\u001b[1;32m     13\u001b[0m \u001b[0;34m\u001b[0m\u001b[0m\n",
            "\u001b[0;32m<ipython-input-58-5d5a4f271eed>\u001b[0m in \u001b[0;36mrecLCM\u001b[0;34m(a, b)\u001b[0m\n\u001b[1;32m      5\u001b[0m   \u001b[0;32mreturn\u001b[0m \u001b[0;34m(\u001b[0m\u001b[0mb\u001b[0m\u001b[0;34m%\u001b[0m\u001b[0ma\u001b[0m\u001b[0;34m,\u001b[0m \u001b[0ma\u001b[0m\u001b[0;34m)\u001b[0m\u001b[0;34m\u001b[0m\u001b[0;34m\u001b[0m\u001b[0m\n\u001b[1;32m      6\u001b[0m \u001b[0;32mdef\u001b[0m \u001b[0mrecLCM\u001b[0m\u001b[0;34m(\u001b[0m\u001b[0ma\u001b[0m\u001b[0;34m,\u001b[0m \u001b[0mb\u001b[0m\u001b[0;34m)\u001b[0m\u001b[0;34m:\u001b[0m\u001b[0;34m\u001b[0m\u001b[0;34m\u001b[0m\u001b[0m\n\u001b[0;32m----> 7\u001b[0;31m   \u001b[0;32mreturn\u001b[0m \u001b[0;34m(\u001b[0m\u001b[0;34m(\u001b[0m\u001b[0ma\u001b[0m \u001b[0;34m/\u001b[0m \u001b[0mrecGCF\u001b[0m\u001b[0;34m(\u001b[0m\u001b[0ma\u001b[0m\u001b[0;34m,\u001b[0m\u001b[0mb\u001b[0m\u001b[0;34m)\u001b[0m\u001b[0;34m)\u001b[0m\u001b[0;34m*\u001b[0m \u001b[0mb\u001b[0m\u001b[0;34m)\u001b[0m\u001b[0;34m\u001b[0m\u001b[0;34m\u001b[0m\u001b[0m\n\u001b[0m\u001b[1;32m      8\u001b[0m \u001b[0;34m\u001b[0m\u001b[0m\n\u001b[1;32m      9\u001b[0m \u001b[0;31m# reclcm = recLCM(int(input()),int(input()))\u001b[0m\u001b[0;34m\u001b[0m\u001b[0;34m\u001b[0m\u001b[0;34m\u001b[0m\u001b[0m\n",
            "\u001b[0;31mTypeError\u001b[0m: unsupported operand type(s) for /: 'int' and 'tuple'"
          ]
        }
      ]
    }
  ]
}