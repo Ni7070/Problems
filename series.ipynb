{
  "nbformat": 4,
  "nbformat_minor": 0,
  "metadata": {
    "colab": {
      "name": "series.ipynb",
      "provenance": [],
      "authorship_tag": "ABX9TyMYGhan8GxDJ+ilK1cuByiE",
      "include_colab_link": true
    },
    "kernelspec": {
      "name": "python3",
      "display_name": "Python 3"
    },
    "language_info": {
      "name": "python"
    }
  },
  "cells": [
    {
      "cell_type": "markdown",
      "metadata": {
        "id": "view-in-github",
        "colab_type": "text"
      },
      "source": [
        "<a href=\"https://colab.research.google.com/github/Ni7070/Problems/blob/master/series.ipynb\" target=\"_parent\"><img src=\"https://colab.research.google.com/assets/colab-badge.svg\" alt=\"Open In Colab\"/></a>"
      ]
    },
    {
      "cell_type": "markdown",
      "metadata": {
        "id": "X83NG-DmvH6Q"
      },
      "source": [
        "1+2+3+4+.........n = $\\frac{n(n+1)}{2}$"
      ]
    },
    {
      "cell_type": "code",
      "metadata": {
        "colab": {
          "base_uri": "https://localhost:8080/"
        },
        "id": "KZleM6sAXOZS",
        "outputId": "49191b4a-e86a-4594-fa92-1540f4237d7c"
      },
      "source": [
        "def series1(N):\n",
        "  print(\"Series: \")\n",
        "  sum = 0\n",
        "  for i in range(1,N+1):\n",
        "    print(i, \"+\", end='')\n",
        "    sum = sum+i\n",
        "  return sum\n",
        "print(\"\\nSum: \", series1(10))"
      ],
      "execution_count": 74,
      "outputs": [
        {
          "output_type": "stream",
          "text": [
            "Series: \n",
            "1 +2 +3 +4 +5 +6 +7 +8 +9 +10 +\n",
            "Sum:  55\n"
          ],
          "name": "stdout"
        }
      ]
    },
    {
      "cell_type": "markdown",
      "metadata": {
        "id": "gyIAzZSrw439"
      },
      "source": [
        "$1^2+2^2+3^2+4^2+.........+n^2 = \\frac{n(n+1)(2n+1)}{6}$"
      ]
    },
    {
      "cell_type": "code",
      "metadata": {
        "colab": {
          "base_uri": "https://localhost:8080/"
        },
        "id": "AYNaWicCw4l1",
        "outputId": "c5cafb48-3300-4478-a78c-800d2ecb1b44"
      },
      "source": [
        "def series2(n):\n",
        "  print(\"Series: \")\n",
        "  sum=0\n",
        "  for i in range(1,n+1):\n",
        "    sum = sum + i**2\n",
        "    print(i**2, \"+\", end='')\n",
        "  return sum\n",
        "n = 4\n",
        "print(\"\\nnth term is:\", n**2, \"sum: \",series2(n))"
      ],
      "execution_count": 81,
      "outputs": [
        {
          "output_type": "stream",
          "text": [
            "Series: \n",
            "1 +4 +9 +16 +\n",
            "nth term is: 16 sum:  30\n"
          ],
          "name": "stdout"
        }
      ]
    },
    {
      "cell_type": "markdown",
      "metadata": {
        "id": "U3xL_RRg0P2i"
      },
      "source": [
        "$1^3+2^3+3^3+4^3+........+n^3 = (\\frac{n(n+2)}{2})^2$"
      ]
    },
    {
      "cell_type": "code",
      "metadata": {
        "colab": {
          "base_uri": "https://localhost:8080/"
        },
        "id": "VBPNC6GzUJoR",
        "outputId": "9dec1f52-d1b8-4c23-ce15-b3bed2cfc6ac"
      },
      "source": [
        "def series3(n):\n",
        "  print(\"Series: \")\n",
        "  sum=0\n",
        "  for i in range(1,n+1):\n",
        "    sum = sum + i**3\n",
        "    print(i**3, \"+\", end='')\n",
        "  return sum\n",
        "n = 4\n",
        "print(\"\\nnth term is:\", n**3, \", Sum: \",series3(n))"
      ],
      "execution_count": 83,
      "outputs": [
        {
          "output_type": "stream",
          "text": [
            "Series: \n",
            "1 +8 +27 +64 +\n",
            "nth term is: 64 , Sum:  100\n"
          ],
          "name": "stdout"
        }
      ]
    },
    {
      "cell_type": "markdown",
      "metadata": {
        "id": "B62zXW1n1XBF"
      },
      "source": [
        "$1+ \\frac{1}{2} + \\frac{1}{3} + \\frac{1}{4} + .........+ \\frac{1}{n}$"
      ]
    },
    {
      "cell_type": "code",
      "metadata": {
        "colab": {
          "base_uri": "https://localhost:8080/"
        },
        "id": "jtF9xmUekdAG",
        "outputId": "d18e1ed4-ceee-4a3c-8a00-841ce0d702c7"
      },
      "source": [
        "def series4(n):\n",
        "  print(\"Series: \")\n",
        "  sum = 0\n",
        "  for i in range(1, n+1):\n",
        "    sum = sum + (1/i)\n",
        "    print(1/i, \"+\", end='')\n",
        "  return round(sum, 3)\n",
        "n = 50\n",
        "print(\"\\nnth term is:\", 1/n, \", Sum: \",series4(n))"
      ],
      "execution_count": 89,
      "outputs": [
        {
          "output_type": "stream",
          "text": [
            "Series: \n",
            "1.0 +0.5 +0.3333333333333333 +0.25 +0.2 +0.16666666666666666 +0.14285714285714285 +0.125 +0.1111111111111111 +0.1 +0.09090909090909091 +0.08333333333333333 +0.07692307692307693 +0.07142857142857142 +0.06666666666666667 +0.0625 +0.058823529411764705 +0.05555555555555555 +0.05263157894736842 +0.05 +0.047619047619047616 +0.045454545454545456 +0.043478260869565216 +0.041666666666666664 +0.04 +0.038461538461538464 +0.037037037037037035 +0.03571428571428571 +0.034482758620689655 +0.03333333333333333 +0.03225806451612903 +0.03125 +0.030303030303030304 +0.029411764705882353 +0.02857142857142857 +0.027777777777777776 +0.02702702702702703 +0.02631578947368421 +0.02564102564102564 +0.025 +0.024390243902439025 +0.023809523809523808 +0.023255813953488372 +0.022727272727272728 +0.022222222222222223 +0.021739130434782608 +0.02127659574468085 +0.020833333333333332 +0.02040816326530612 +0.02 +\n",
            "nth term is: 0.02 , Sum:  4.499\n"
          ],
          "name": "stdout"
        }
      ]
    },
    {
      "cell_type": "markdown",
      "metadata": {
        "id": "ISK9lHCq2z9w"
      },
      "source": [
        "$1 + \\frac{1}{2*2} + \\frac{1}{3*3} + \\frac{1}{4*4} + ….. + \\frac{1}{n*n}$"
      ]
    },
    {
      "cell_type": "code",
      "metadata": {
        "colab": {
          "base_uri": "https://localhost:8080/"
        },
        "id": "fysO9zqQ2zp9",
        "outputId": "24cc8db7-2753-4f67-cba9-89d8fd889d13"
      },
      "source": [
        "def series5(n):\n",
        "  print(\"Series: \")\n",
        "  sum = 0.0\n",
        "  for i in range(1, n+1):\n",
        "    sum = sum + (1/i**2)\n",
        "    print(1/i**2, \"+\", end='')\n",
        "  return sum\n",
        "n = 50\n",
        "print(\"\\nnth term is:\", 1/(n*n), \", Sum: \",round(series5(n),3))"
      ],
      "execution_count": 95,
      "outputs": [
        {
          "output_type": "stream",
          "text": [
            "Series: \n",
            "1.0 +0.25 +0.1111111111111111 +0.0625 +0.04 +0.027777777777777776 +0.02040816326530612 +0.015625 +0.012345679012345678 +0.01 +0.008264462809917356 +0.006944444444444444 +0.005917159763313609 +0.00510204081632653 +0.0044444444444444444 +0.00390625 +0.0034602076124567475 +0.0030864197530864196 +0.002770083102493075 +0.0025 +0.0022675736961451248 +0.002066115702479339 +0.001890359168241966 +0.001736111111111111 +0.0016 +0.0014792899408284023 +0.0013717421124828531 +0.0012755102040816326 +0.0011890606420927466 +0.0011111111111111111 +0.001040582726326743 +0.0009765625 +0.0009182736455463728 +0.0008650519031141869 +0.0008163265306122449 +0.0007716049382716049 +0.0007304601899196494 +0.0006925207756232687 +0.0006574621959237344 +0.000625 +0.000594883997620464 +0.0005668934240362812 +0.0005408328826392645 +0.0005165289256198347 +0.0004938271604938272 +0.0004725897920604915 +0.0004526935264825713 +0.00043402777777777775 +0.00041649312786339027 +0.0004 +\n",
            "nth term is: 0.0004 , Sum:  1.625\n"
          ],
          "name": "stdout"
        }
      ]
    }
  ]
}