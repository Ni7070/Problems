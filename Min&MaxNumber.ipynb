{
  "nbformat": 4,
  "nbformat_minor": 0,
  "metadata": {
    "colab": {
      "name": "Min&MaxNumber.ipynb",
      "provenance": [],
      "authorship_tag": "ABX9TyNflXhbasnfDF6gbIxtD/27",
      "include_colab_link": true
    },
    "kernelspec": {
      "name": "python3",
      "display_name": "Python 3"
    },
    "language_info": {
      "name": "python"
    }
  },
  "cells": [
    {
      "cell_type": "markdown",
      "metadata": {
        "id": "view-in-github",
        "colab_type": "text"
      },
      "source": [
        "<a href=\"https://colab.research.google.com/github/Ni7070/Problems/blob/master/Min%26MaxNumber.ipynb\" target=\"_parent\"><img src=\"https://colab.research.google.com/assets/colab-badge.svg\" alt=\"Open In Colab\"/></a>"
      ]
    },
    {
      "cell_type": "markdown",
      "metadata": {
        "id": "6nEpcLobR9Gk"
      },
      "source": [
        "**Given some intergers print the valid max and min number**\n",
        "\n",
        "**Input:**\n",
        "[5, 6, 3, 9, 0, 0]<br>\n",
        "**Output:**<br>\n",
        "*Max* : 965300<bR>\n",
        "*Min* : 300569<br>\n"
      ]
    },
    {
      "cell_type": "code",
      "metadata": {
        "colab": {
          "base_uri": "https://localhost:8080/"
        },
        "id": "TkKucQz4F3y7",
        "outputId": "343ccef9-4b54-48de-e213-22cdd3d3d152"
      },
      "source": [
        "L = list(map(int, input().split()))\n",
        "\n",
        "#minimum number to maximum number\n",
        "##Insertion sort\n",
        "for i in range(1, len(L)):\n",
        "  value = L[i]\n",
        "  hole = i\n",
        "  while hole>0 and L[hole-1]>value:\n",
        "    L[hole] = L[hole-1]\n",
        "    hole = hole-1\n",
        "  L[hole] = value\n",
        "\n",
        "#if 0 is in the first place, swap 0 with the first non-zero number in the list\n",
        "for i in range(0, len(L)):\n",
        "  for j in range(1, len(L)):\n",
        "    if L[i]==0 and L[j]!=0:\n",
        "      L[i], L[j] = L[j], L[i]\n",
        "      break\n",
        "## list to number\n",
        "M = int(''.join(map(str, L)))\n",
        "print('Min:', M)\n",
        "\n",
        "#Maximum to minimum number\n",
        "for i in range(1, len(L)):\n",
        "  value = L[i]\n",
        "  hole = i\n",
        "  while hole>0 and L[hole-1]<value:\n",
        "    L[hole] = L[hole-1]\n",
        "    hole = hole-1\n",
        "  L[hole] = value\n",
        "# joining list to number\n",
        "N = int(''.join(map(str, L)))\n",
        "print('Max:', N)\n"
      ],
      "execution_count": 52,
      "outputs": [
        {
          "output_type": "stream",
          "text": [
            "5 6 3 9 0 0\n",
            "Min: 300569\n",
            "Max: 965300\n"
          ],
          "name": "stdout"
        }
      ]
    }
  ]
}