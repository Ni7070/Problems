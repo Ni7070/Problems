{
  "nbformat": 4,
  "nbformat_minor": 0,
  "metadata": {
    "colab": {
      "name": "Remove duplicate from a list.ipynb",
      "provenance": [],
      "authorship_tag": "ABX9TyO5hLfQSUbfsFKzi5zzBfVw",
      "include_colab_link": true
    },
    "kernelspec": {
      "name": "python3",
      "display_name": "Python 3"
    },
    "language_info": {
      "name": "python"
    }
  },
  "cells": [
    {
      "cell_type": "markdown",
      "metadata": {
        "id": "view-in-github",
        "colab_type": "text"
      },
      "source": [
        "<a href=\"https://colab.research.google.com/github/Ni7070/Problems/blob/master/Remove_duplicate_from_a_list.ipynb\" target=\"_parent\"><img src=\"https://colab.research.google.com/assets/colab-badge.svg\" alt=\"Open In Colab\"/></a>"
      ]
    },
    {
      "cell_type": "markdown",
      "metadata": {
        "id": "6nEpcLobR9Gk"
      },
      "source": [
        "**Remove duplicate from a list**\n",
        "\n",
        "**Input:**\n",
        "[5, 6, 7, 8 ,3, 3, 7, 7, 7]<br>\n",
        "**Output:**[5, 6, 7, 8, 3]<br>\n"
      ]
    },
    {
      "cell_type": "markdown",
      "metadata": {
        "id": "An0jvjCRe2cB"
      },
      "source": [
        "Solved it in three ways:\n",
        "\n",
        "---\n",
        "\n",
        "\n",
        "1. take another list and put the unique elements there, then append the new list in the old one.\n",
        "2. if got matched, make it null, then take all the not Null elements and append in another list.\n",
        "3. make it a set, then turn the set into a list."
      ]
    },
    {
      "cell_type": "code",
      "metadata": {
        "colab": {
          "base_uri": "https://localhost:8080/"
        },
        "id": "VszTWuiWVrx6",
        "outputId": "9f05ffef-f6c7-4b07-ec0a-693d8910d80e"
      },
      "source": [
        "A= [5, 6, 7, 8 ,3, 3, 7, 7, 7]\n",
        "b = []\n",
        "for i in range(len(A)):\n",
        "  if A[i] not in b:\n",
        "    b.append(A[i])\n",
        "for i in range(len(A)):\n",
        "  if i <len(b):\n",
        "    A[i] = b[i]\n",
        "  else:\n",
        "    A.pop()\n",
        "print(A)"
      ],
      "execution_count": 59,
      "outputs": [
        {
          "output_type": "stream",
          "text": [
            "[5, 6, 7, 8, 3]\n"
          ],
          "name": "stdout"
        }
      ]
    },
    {
      "cell_type": "code",
      "metadata": {
        "colab": {
          "base_uri": "https://localhost:8080/"
        },
        "id": "cYhi9_tNV8G6",
        "outputId": "2e34a956-4930-4881-bee7-c81735334a90"
      },
      "source": [
        "lis = [5, 6, 7, 8 ,3, 3, 7, 7, 7]\n",
        "for i in range(len(lis)):\n",
        "  for j in range(i+1, len(lis)):\n",
        "    if lis[i] == lis[j]:\n",
        "      lis[j] = None\n",
        "print(lis)   \n",
        "l = [i for i in lis if i != None]\n",
        "\n",
        "print(l)"
      ],
      "execution_count": 87,
      "outputs": [
        {
          "output_type": "stream",
          "text": [
            "[5, 6, 7, 8, 3, None, None, None, None]\n",
            "[5, 6, 7, 8, 3]\n"
          ],
          "name": "stdout"
        }
      ]
    },
    {
      "cell_type": "code",
      "metadata": {
        "colab": {
          "base_uri": "https://localhost:8080/"
        },
        "id": "RgL-lKwNe9NW",
        "outputId": "9bff4f55-a7a5-441d-c9de-042cc42dded9"
      },
      "source": [
        "p = [5, 6, 7, 8 ,3, 3, 7, 7, 7]\n",
        "s = set(p)\n",
        "p = list(s)\n",
        "print(p)"
      ],
      "execution_count": 91,
      "outputs": [
        {
          "output_type": "stream",
          "text": [
            "[3, 5, 6, 7, 8]\n"
          ],
          "name": "stdout"
        }
      ]
    }
  ]
}