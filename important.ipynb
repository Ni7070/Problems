{
  "nbformat": 4,
  "nbformat_minor": 0,
  "metadata": {
    "colab": {
      "name": "important.ipynb",
      "provenance": [],
      "authorship_tag": "ABX9TyMlIg7QpCOIaJzA2CjeMjHz",
      "include_colab_link": true
    },
    "kernelspec": {
      "name": "python3",
      "display_name": "Python 3"
    },
    "language_info": {
      "name": "python"
    }
  },
  "cells": [
    {
      "cell_type": "markdown",
      "metadata": {
        "id": "view-in-github",
        "colab_type": "text"
      },
      "source": [
        "<a href=\"https://colab.research.google.com/github/Ni7070/Problems/blob/master/important.ipynb\" target=\"_parent\"><img src=\"https://colab.research.google.com/assets/colab-badge.svg\" alt=\"Open In Colab\"/></a>"
      ]
    },
    {
      "cell_type": "code",
      "metadata": {
        "colab": {
          "base_uri": "https://localhost:8080/"
        },
        "id": "1q0KVm1cMGCl",
        "outputId": "6cbf2308-d01d-423a-d1ec-99e3428a9961"
      },
      "source": [
        "s = \"gotta move one from a lot of things\"\n",
        "dic = {}\n",
        "for i in s:\n",
        "  if i in dic:\n",
        "    dic[i]+=1\n",
        "  else:\n",
        "    dic[i]=1\n",
        "for k, v in dic.items():\n",
        "  if v==1:\n",
        "    print(k, end=', ')"
      ],
      "execution_count": 6,
      "outputs": [
        {
          "output_type": "stream",
          "name": "stdout",
          "text": [
            "v, r, l, h, i, s, "
          ]
        }
      ]
    },
    {
      "cell_type": "code",
      "metadata": {
        "colab": {
          "base_uri": "https://localhost:8080/"
        },
        "id": "9umVDR2QNcNA",
        "outputId": "db38caba-1ca2-4148-f28b-766f811195e8"
      },
      "source": [
        "l = [1,2,3,4,5,6]\n",
        "x = 6\n",
        "dic = {}\n",
        "p=[]\n",
        "for i in l:\n",
        "  if x-i not in dic:\n",
        "    dic[i] = x-i\n",
        "print(dic)"
      ],
      "execution_count": 63,
      "outputs": [
        {
          "output_type": "stream",
          "name": "stdout",
          "text": [
            "{1: 5, 2: 4, 3: 3, 6: 0}\n"
          ]
        }
      ]
    },
    {
      "cell_type": "code",
      "metadata": {
        "colab": {
          "base_uri": "https://localhost:8080/"
        },
        "id": "HH-xcUEROObr",
        "outputId": "92e61720-8983-4998-ddae-1ca2916ec7f8"
      },
      "source": [
        "def find_pairs(l, x):\n",
        "  pairs = []\n",
        "  for (i, el_1) in enumerate(l):\n",
        "    for (j, el_2) in enumerate(l[i+1:]):\n",
        "      if el_1 + el_2 == x:\n",
        "        pairs.append((el_1, el_2))\n",
        "  return pairs\n",
        "l = [1,2,3,4,5,6,7,0]\n",
        "print(find_pairs(l, 10))"
      ],
      "execution_count": 9,
      "outputs": [
        {
          "output_type": "stream",
          "name": "stdout",
          "text": [
            "[(3, 7), (4, 6)]\n"
          ]
        }
      ]
    },
    {
      "cell_type": "code",
      "metadata": {
        "colab": {
          "base_uri": "https://localhost:8080/"
        },
        "id": "FBCQjGZEPzOC",
        "outputId": "d12ac643-d56b-444b-f7de-ef10147999f3"
      },
      "source": [
        "s = \"())))\"\n",
        "# opening = [\"(\", \"{\", \"[\"]\n",
        "# closing = [\")\", \"}\", \"]\"]\n",
        "bracket = {\n",
        "  \"(\": \")\"\n",
        "  }\n",
        "\n",
        "stack = [] \n",
        "top = -1\n",
        "\n",
        "\n",
        "if len(s)>=1 and len(s) <= 10**4:\n",
        "  for i in s:\n",
        "    if i==\"(\":\n",
        "      stack.append(i)\n",
        "      top=top+1\n",
        "    elif i==\")\" and top!=-1 and bracket[stack[top]] == i:\n",
        "      stack.pop()\n",
        "      top=top-1\n",
        "    else:\n",
        "      print(\"false\")\n",
        "      #return False  \n",
        "  if top == -1:\n",
        "    print(\"true\")\n",
        "    #return True\n",
        "else:\n",
        "  print(\"false\")\n",
        "  #return False\n",
        "  \n"
      ],
      "execution_count": 23,
      "outputs": [
        {
          "output_type": "stream",
          "name": "stdout",
          "text": [
            "false\n",
            "false\n",
            "false\n",
            "true\n"
          ]
        }
      ]
    },
    {
      "cell_type": "code",
      "metadata": {
        "colab": {
          "base_uri": "https://localhost:8080/"
        },
        "id": "ucUHr266RuOQ",
        "outputId": "fdbfa3bc-09ca-4e6b-e423-36fc0338f174"
      },
      "source": [
        "s = \")()())\"\n",
        "stack = []\n",
        "flag = False\n",
        "for i in s:\n",
        "  if i == \"(\":\n",
        "    stack.append(i)\n",
        "    flag = True\n",
        "  elif i ==\")\" and stack == True:\n",
        "    stack.pop()\n",
        "if flag == True:\n",
        "  if stack:\n",
        "    print(\"false\")\n",
        "  else:\n",
        "    print(\"true\")\n",
        "else:\n",
        "  print(\"false\")\n"
      ],
      "execution_count": 31,
      "outputs": [
        {
          "output_type": "stream",
          "name": "stdout",
          "text": [
            "false\n"
          ]
        }
      ]
    },
    {
      "cell_type": "code",
      "metadata": {
        "colab": {
          "base_uri": "https://localhost:8080/"
        },
        "id": "IR8CZoMgUqbR",
        "outputId": "37e5169b-3b72-47e3-8dbb-fd41a7b142c6"
      },
      "source": [
        "l = [0, 0, 1, 1, 1, 2, 2, 3, 3, 4, 4, 5, 5, 7,7]\n",
        "l2 = []\n",
        "for i in range(len(l)-1):\n",
        "  if  l[i] %2 != 0 and l[i]<l[i+1]:\n",
        "    l2.append(l[i])\n",
        "print(l2)"
      ],
      "execution_count": 45,
      "outputs": [
        {
          "output_type": "stream",
          "name": "stdout",
          "text": [
            "[1, 3, 5]\n"
          ]
        }
      ]
    },
    {
      "cell_type": "markdown",
      "metadata": {
        "id": "AX7JVe3VX6hK"
      },
      "source": [
        "remove duplicate from a sorted list."
      ]
    },
    {
      "cell_type": "code",
      "metadata": {
        "colab": {
          "base_uri": "https://localhost:8080/"
        },
        "id": "vQTeefJaYBuu",
        "outputId": "4217a984-7c65-41d2-829c-61c37d51565d"
      },
      "source": [
        "nums = [0, 0, 1, 1, 1, 2, 2, 3, 3, 4, 4, 5, 5, 7,7,8]\n",
        "ind = 1\n",
        "for i in range(len(nums)-1):\n",
        "  if nums[i]!=nums[i+1]:\n",
        "    nums[ind]=nums[i+1]\n",
        "    ind+=1\n",
        "print(nums)"
      ],
      "execution_count": 48,
      "outputs": [
        {
          "output_type": "stream",
          "name": "stdout",
          "text": [
            "[0, 1, 2, 3, 4, 5, 7, 8, 3, 4, 4, 5, 5, 7, 7, 8]\n"
          ]
        }
      ]
    },
    {
      "cell_type": "code",
      "metadata": {
        "colab": {
          "base_uri": "https://localhost:8080/"
        },
        "id": "pplrYUiMZFAq",
        "outputId": "fb8b2bed-acd0-4ad4-f95a-a5af12e6fdbc"
      },
      "source": [
        "nums = [0, 0, 1, 1, 1, 2, 2, 3, 3, 4, 4, 5, 5, 7,7,8]\n",
        "next_non_duplicate = 1\n",
        "        \n",
        "for i in range(len(nums)):\n",
        "    if nums[next_non_duplicate - 1] != nums[i]:\n",
        "        nums[next_non_duplicate] = nums[i]\n",
        "        next_non_duplicate += 1\n",
        "    i += 1\n",
        "print(nums[:])"
      ],
      "execution_count": 51,
      "outputs": [
        {
          "output_type": "stream",
          "name": "stdout",
          "text": [
            "[0, 1, 2, 3, 4, 5, 7, 8, 3, 4, 4, 5, 5, 7, 7, 8]\n"
          ]
        }
      ]
    },
    {
      "cell_type": "code",
      "metadata": {
        "colab": {
          "base_uri": "https://localhost:8080/"
        },
        "id": "bnYPVdpmZvT8",
        "outputId": "0150de88-64de-4d58-9181-df5848479ee7"
      },
      "source": [
        "nums = [0, 0, 1, 1, 1, 2, 2, 3, 3, 4, 4, 5, 5, 7,7,8]\n",
        "i = 0\n",
        "for j in range(1, len(nums)):\n",
        "  if nums[j]%2!=0 and nums[j] != nums[i]:\n",
        "    i+=1\n",
        "    nums[i] = nums[j]\n",
        "print(nums[:i+1])"
      ],
      "execution_count": 60,
      "outputs": [
        {
          "output_type": "stream",
          "name": "stdout",
          "text": [
            "[0, 1, 3, 5, 7]\n"
          ]
        }
      ]
    }
  ]
}