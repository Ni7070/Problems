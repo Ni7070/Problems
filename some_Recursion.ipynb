{
  "nbformat": 4,
  "nbformat_minor": 0,
  "metadata": {
    "colab": {
      "name": "some Recursion.ipynb",
      "provenance": [],
      "authorship_tag": "ABX9TyOjl+DA2m4x20T57D1TT8QR",
      "include_colab_link": true
    },
    "kernelspec": {
      "name": "python3",
      "display_name": "Python 3"
    },
    "language_info": {
      "name": "python"
    }
  },
  "cells": [
    {
      "cell_type": "markdown",
      "metadata": {
        "id": "view-in-github",
        "colab_type": "text"
      },
      "source": [
        "<a href=\"https://colab.research.google.com/github/Ni7070/Problems/blob/master/some_Recursion.ipynb\" target=\"_parent\"><img src=\"https://colab.research.google.com/assets/colab-badge.svg\" alt=\"Open In Colab\"/></a>"
      ]
    },
    {
      "cell_type": "markdown",
      "metadata": {
        "id": "M4c6Fgy9YAyN"
      },
      "source": [
        "**Recursion**"
      ]
    },
    {
      "cell_type": "code",
      "metadata": {
        "id": "A59s1ejUXKcS",
        "colab": {
          "base_uri": "https://localhost:8080/"
        },
        "outputId": "604c3444-e32d-47b7-9c2e-a2b4bde95dee"
      },
      "source": [
        "def fact(n):\n",
        "  if n==1:\n",
        "    return n\n",
        "  else:\n",
        "    return n*fact(n-1)\n",
        "\n",
        "print(fact(5))"
      ],
      "execution_count": 4,
      "outputs": [
        {
          "output_type": "stream",
          "text": [
            "120\n"
          ],
          "name": "stdout"
        }
      ]
    },
    {
      "cell_type": "markdown",
      "metadata": {
        "id": "xAKlSbNpYt4F"
      },
      "source": [
        "**Fibonnacci**"
      ]
    },
    {
      "cell_type": "code",
      "metadata": {
        "colab": {
          "base_uri": "https://localhost:8080/"
        },
        "id": "_FGLzrGDYwlL",
        "outputId": "e1e9087d-1f8e-47dc-a164-4dcedb6d2d2a"
      },
      "source": [
        "def fibo(n):\n",
        "  fibo_cache = {}\n",
        "  if n==1:\n",
        "    value = 1\n",
        "  elif n==2:\n",
        "    value = 1\n",
        "  else:\n",
        "    value = fibo(n-1)+fibo(n-2)\n",
        "  \n",
        "  fibo_cache[n] = value\n",
        "  return value\n",
        "for i in range(1,11):\n",
        "  print(i, ' : ', fibo(i))"
      ],
      "execution_count": 27,
      "outputs": [
        {
          "output_type": "stream",
          "text": [
            "1  :  1\n",
            "2  :  1\n",
            "3  :  2\n",
            "4  :  3\n",
            "5  :  5\n",
            "6  :  8\n",
            "7  :  13\n",
            "8  :  21\n",
            "9  :  34\n",
            "10  :  55\n"
          ],
          "name": "stdout"
        }
      ]
    },
    {
      "cell_type": "markdown",
      "metadata": {
        "id": "gxg_kdTCiOIw"
      },
      "source": [
        "**Fibonacci with LRU-Cache**"
      ]
    },
    {
      "cell_type": "code",
      "metadata": {
        "colab": {
          "base_uri": "https://localhost:8080/"
        },
        "id": "MC9BiDmBcyMv",
        "outputId": "4b1ece62-9abc-4497-e26e-ca49a156e327"
      },
      "source": [
        "from functools import lru_cache\n",
        "\n",
        "@lru_cache(maxsize=1000)\n",
        "def fibo(n):\n",
        "  if n==1:\n",
        "    return 1\n",
        "  elif n==2:\n",
        "    return 1\n",
        "  else:\n",
        "    return fibo(n-1)+fibo(n-2)\n",
        "  \n",
        "\n",
        "for i in range(1,101):\n",
        "  print(i, ' : ', fibo(i))"
      ],
      "execution_count": 32,
      "outputs": [
        {
          "output_type": "stream",
          "text": [
            "1  :  1\n",
            "2  :  1\n",
            "3  :  2\n",
            "4  :  3\n",
            "5  :  5\n",
            "6  :  8\n",
            "7  :  13\n",
            "8  :  21\n",
            "9  :  34\n",
            "10  :  55\n",
            "11  :  89\n",
            "12  :  144\n",
            "13  :  233\n",
            "14  :  377\n",
            "15  :  610\n",
            "16  :  987\n",
            "17  :  1597\n",
            "18  :  2584\n",
            "19  :  4181\n",
            "20  :  6765\n",
            "21  :  10946\n",
            "22  :  17711\n",
            "23  :  28657\n",
            "24  :  46368\n",
            "25  :  75025\n",
            "26  :  121393\n",
            "27  :  196418\n",
            "28  :  317811\n",
            "29  :  514229\n",
            "30  :  832040\n",
            "31  :  1346269\n",
            "32  :  2178309\n",
            "33  :  3524578\n",
            "34  :  5702887\n",
            "35  :  9227465\n",
            "36  :  14930352\n",
            "37  :  24157817\n",
            "38  :  39088169\n",
            "39  :  63245986\n",
            "40  :  102334155\n",
            "41  :  165580141\n",
            "42  :  267914296\n",
            "43  :  433494437\n",
            "44  :  701408733\n",
            "45  :  1134903170\n",
            "46  :  1836311903\n",
            "47  :  2971215073\n",
            "48  :  4807526976\n",
            "49  :  7778742049\n",
            "50  :  12586269025\n",
            "51  :  20365011074\n",
            "52  :  32951280099\n",
            "53  :  53316291173\n",
            "54  :  86267571272\n",
            "55  :  139583862445\n",
            "56  :  225851433717\n",
            "57  :  365435296162\n",
            "58  :  591286729879\n",
            "59  :  956722026041\n",
            "60  :  1548008755920\n",
            "61  :  2504730781961\n",
            "62  :  4052739537881\n",
            "63  :  6557470319842\n",
            "64  :  10610209857723\n",
            "65  :  17167680177565\n",
            "66  :  27777890035288\n",
            "67  :  44945570212853\n",
            "68  :  72723460248141\n",
            "69  :  117669030460994\n",
            "70  :  190392490709135\n",
            "71  :  308061521170129\n",
            "72  :  498454011879264\n",
            "73  :  806515533049393\n",
            "74  :  1304969544928657\n",
            "75  :  2111485077978050\n",
            "76  :  3416454622906707\n",
            "77  :  5527939700884757\n",
            "78  :  8944394323791464\n",
            "79  :  14472334024676221\n",
            "80  :  23416728348467685\n",
            "81  :  37889062373143906\n",
            "82  :  61305790721611591\n",
            "83  :  99194853094755497\n",
            "84  :  160500643816367088\n",
            "85  :  259695496911122585\n",
            "86  :  420196140727489673\n",
            "87  :  679891637638612258\n",
            "88  :  1100087778366101931\n",
            "89  :  1779979416004714189\n",
            "90  :  2880067194370816120\n",
            "91  :  4660046610375530309\n",
            "92  :  7540113804746346429\n",
            "93  :  12200160415121876738\n",
            "94  :  19740274219868223167\n",
            "95  :  31940434634990099905\n",
            "96  :  51680708854858323072\n",
            "97  :  83621143489848422977\n",
            "98  :  135301852344706746049\n",
            "99  :  218922995834555169026\n",
            "100  :  354224848179261915075\n"
          ],
          "name": "stdout"
        }
      ]
    },
    {
      "cell_type": "markdown",
      "metadata": {
        "id": "7lHl8fAvkLHn"
      },
      "source": [
        "$1+2+3+4+...........+n$ using Recusion"
      ]
    },
    {
      "cell_type": "code",
      "metadata": {
        "colab": {
          "base_uri": "https://localhost:8080/"
        },
        "id": "0_eUzuLVkSTM",
        "outputId": "b412dc49-a0dd-48c5-d948-dad2ae6961ca"
      },
      "source": [
        "def sum1(n):\n",
        "  if n==1:\n",
        "    return 1\n",
        "  else:\n",
        "    return n+sum1(n-1)\n",
        "\n",
        "\n",
        "for i in range(1,11):\n",
        "  print(i,\":\", sum1(i))"
      ],
      "execution_count": 41,
      "outputs": [
        {
          "output_type": "stream",
          "text": [
            "1 : 1\n",
            "2 : 3\n",
            "3 : 6\n",
            "4 : 10\n",
            "5 : 15\n",
            "6 : 21\n",
            "7 : 28\n",
            "8 : 36\n",
            "9 : 45\n",
            "10 : 55\n"
          ],
          "name": "stdout"
        }
      ]
    },
    {
      "cell_type": "markdown",
      "metadata": {
        "id": "JP7fLthtljvB"
      },
      "source": [
        "**Calculate sum of digits using recusrion**"
      ]
    },
    {
      "cell_type": "code",
      "metadata": {
        "colab": {
          "base_uri": "https://localhost:8080/"
        },
        "id": "jC03b0InljLL",
        "outputId": "9f2ca4ce-58bc-4210-92e0-e3884ced9d19"
      },
      "source": [
        "def getdigits(n):\n",
        "    if n < 10:\n",
        "      return [n]\n",
        "    else:\n",
        "      return getdigits(n//10) + [n%10]\n",
        "\n",
        "getdigits(453)"
      ],
      "execution_count": 60,
      "outputs": [
        {
          "output_type": "execute_result",
          "data": {
            "text/plain": [
              "[4, 5, 3]"
            ]
          },
          "metadata": {},
          "execution_count": 60
        }
      ]
    },
    {
      "cell_type": "code",
      "metadata": {
        "colab": {
          "base_uri": "https://localhost:8080/"
        },
        "id": "_PF526PQmRSs",
        "outputId": "11cb227b-a601-45e3-d1c2-3531efd92d30"
      },
      "source": [
        "print(0%10)"
      ],
      "execution_count": 47,
      "outputs": [
        {
          "output_type": "stream",
          "text": [
            "0\n"
          ],
          "name": "stdout"
        }
      ]
    }
  ]
}