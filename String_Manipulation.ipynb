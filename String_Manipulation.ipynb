{
  "nbformat": 4,
  "nbformat_minor": 0,
  "metadata": {
    "colab": {
      "name": "String Manipulation.ipynb",
      "provenance": [],
      "authorship_tag": "ABX9TyPbn/GOLBSMsgln/wihnKZ0",
      "include_colab_link": true
    },
    "kernelspec": {
      "name": "python3",
      "display_name": "Python 3"
    },
    "language_info": {
      "name": "python"
    }
  },
  "cells": [
    {
      "cell_type": "markdown",
      "metadata": {
        "id": "view-in-github",
        "colab_type": "text"
      },
      "source": [
        "<a href=\"https://colab.research.google.com/github/Ni7070/Problems/blob/master/String_Manipulation.ipynb\" target=\"_parent\"><img src=\"https://colab.research.google.com/assets/colab-badge.svg\" alt=\"Open In Colab\"/></a>"
      ]
    },
    {
      "cell_type": "markdown",
      "metadata": {
        "id": "m3v0yQpWCeis"
      },
      "source": [
        "Count the occurance of each charater in a string"
      ]
    },
    {
      "cell_type": "code",
      "metadata": {
        "colab": {
          "base_uri": "https://localhost:8080/"
        },
        "id": "nn3XwAOxBtdf",
        "outputId": "fe7aab4b-8e80-4c56-a025-ce7a445f0c93"
      },
      "source": [
        "import collections\n",
        "s = 'My Name Is Nishat'\n",
        "result = collections.Counter(s)\n",
        "print(result)"
      ],
      "execution_count": null,
      "outputs": [
        {
          "output_type": "stream",
          "text": [
            "Counter({' ': 3, 'N': 2, 'a': 2, 's': 2, 'M': 1, 'y': 1, 'm': 1, 'e': 1, 'I': 1, 'i': 1, 'h': 1, 't': 1})\n"
          ],
          "name": "stdout"
        }
      ]
    },
    {
      "cell_type": "code",
      "metadata": {
        "colab": {
          "base_uri": "https://localhost:8080/"
        },
        "id": "KObGVrziCeFW",
        "outputId": "3b7aa39e-e9b0-41b0-9012-f7427d942a25"
      },
      "source": [
        "dic = {}\n",
        "for i in s:\n",
        "  if i in dic.keys():\n",
        "    dic[i] += 1\n",
        "  else:\n",
        "    dic[i] = 1\n",
        "# for i in dic.items():\n",
        "#   print(i)\n",
        "print(dic)"
      ],
      "execution_count": null,
      "outputs": [
        {
          "output_type": "stream",
          "text": [
            "{'M': 1, 'y': 1, ' ': 3, 'N': 2, 'a': 2, 'm': 1, 'e': 1, 'I': 1, 's': 2, 'i': 1, 'h': 1, 't': 1}\n"
          ],
          "name": "stdout"
        }
      ]
    },
    {
      "cell_type": "markdown",
      "metadata": {
        "id": "eR-IuQuCFVtB"
      },
      "source": [
        "count the duplicate strings"
      ]
    },
    {
      "cell_type": "code",
      "metadata": {
        "colab": {
          "base_uri": "https://localhost:8080/"
        },
        "id": "qKG4SvQqFdtF",
        "outputId": "1dff367b-bf98-4b7f-870e-e9e3afdc0cc6"
      },
      "source": [
        "for i in dic:\n",
        "  if dic[i]>1:\n",
        "    print(i, dic[i])"
      ],
      "execution_count": null,
      "outputs": [
        {
          "output_type": "stream",
          "text": [
            "  3\n",
            "N 2\n",
            "a 2\n",
            "s 2\n"
          ],
          "name": "stdout"
        }
      ]
    },
    {
      "cell_type": "code",
      "metadata": {
        "colab": {
          "base_uri": "https://localhost:8080/"
        },
        "id": "LzTcCaiiJf1a",
        "outputId": "126144ac-2a87-4d50-83e7-2f7e1ab2c6f1"
      },
      "source": [
        "s = \"Bring-me-a-glass-of-water\"\n",
        "dicti = {}\n",
        "for i in s:\n",
        "  if i in dicti.keys():\n",
        "    dicti[i] += 1\n",
        "  else:\n",
        "    dicti[i] = 1\n",
        "print(dicti)\n",
        "\n",
        "for i in dicti:\n",
        "  if dicti[i]>1:\n",
        "    print(i, sep=' ', end=' ')"
      ],
      "execution_count": null,
      "outputs": [
        {
          "output_type": "stream",
          "text": [
            "{'B': 1, 'r': 2, 'i': 1, 'n': 1, 'g': 2, '-': 5, 'm': 1, 'e': 2, 'a': 3, 'l': 1, 's': 2, 'o': 1, 'f': 1, 'w': 1, 't': 1}\n",
            "r g - e a s "
          ],
          "name": "stdout"
        }
      ]
    },
    {
      "cell_type": "markdown",
      "metadata": {
        "id": "Co3YlKc1HiUP"
      },
      "source": [
        "Remove dulpicates from a string"
      ]
    },
    {
      "cell_type": "code",
      "metadata": {
        "colab": {
          "base_uri": "https://localhost:8080/"
        },
        "id": "zNjjvCOaHhR6",
        "outputId": "1d0e7776-4df9-41c3-c29b-acc026fe68ec"
      },
      "source": [
        "st = \"I love Bangladesh\"\n",
        "stSet = set(st)\n",
        "s1 = ''.join(stSet)\n",
        "print(s1)"
      ],
      "execution_count": null,
      "outputs": [
        {
          "output_type": "stream",
          "text": [
            "slveB Iaghdno\n"
          ],
          "name": "stdout"
        }
      ]
    },
    {
      "cell_type": "markdown",
      "metadata": {
        "id": "vjS6pkH9W_Zh"
      },
      "source": [
        "Check substring"
      ]
    },
    {
      "cell_type": "code",
      "metadata": {
        "colab": {
          "base_uri": "https://localhost:8080/"
        },
        "id": "tDjpIpu_IN5Y",
        "outputId": "a425efd8-9a7f-43b9-c5f1-bce19a8fad5b"
      },
      "source": [
        "sub = \"love\"\n",
        "s = 'I love love Bangladesh'\n",
        "if sub in s:\n",
        "  print(\"yes\")\n",
        "else:\n",
        "  print(\"no\")"
      ],
      "execution_count": 42,
      "outputs": [
        {
          "output_type": "stream",
          "text": [
            "yes\n"
          ],
          "name": "stdout"
        }
      ]
    },
    {
      "cell_type": "markdown",
      "metadata": {
        "id": "lxlhNoNkXc2l"
      },
      "source": [
        "check occurance of a substring"
      ]
    },
    {
      "cell_type": "code",
      "metadata": {
        "colab": {
          "base_uri": "https://localhost:8080/"
        },
        "id": "0mqkZ4m7Xfvl",
        "outputId": "fd5a3e11-9b7f-4f56-d1f8-b9ea794ef7aa"
      },
      "source": [
        "check = \"lo\"\n",
        "s = \"I love lov  lo Bangladesh\"\n",
        "count = s.count(check) #start #end\n",
        "print(count)"
      ],
      "execution_count": null,
      "outputs": [
        {
          "output_type": "stream",
          "text": [
            "3\n"
          ],
          "name": "stdout"
        }
      ]
    },
    {
      "cell_type": "code",
      "metadata": {
        "colab": {
          "base_uri": "https://localhost:8080/"
        },
        "id": "h37re4npZfbQ",
        "outputId": "874fcf7e-7581-4d40-a4f8-6c196d61b2a1"
      },
      "source": [
        "def count_substring(string,sub_string):\n",
        "    count=0\n",
        "    l = len(string)-len(sub_string)+1\n",
        "    print(l)\n",
        "    for i in range(len(string)-len(sub_string)+1):\n",
        "        if(string[i:i+len(sub_string)] == sub_string ):      \n",
        "            count+=1\n",
        "    return count  \n",
        "print(count_substring('loolvelove', 'lo'))"
      ],
      "execution_count": null,
      "outputs": [
        {
          "output_type": "stream",
          "text": [
            "9\n",
            "2\n"
          ],
          "name": "stdout"
        }
      ]
    },
    {
      "cell_type": "markdown",
      "metadata": {
        "id": "pNiT6uH3t_FO"
      },
      "source": [
        "**Reversing a string**"
      ]
    },
    {
      "cell_type": "code",
      "metadata": {
        "id": "BLifYtEyuFf2",
        "outputId": "e3885444-a2f8-4a10-f480-15df05cf180d",
        "colab": {
          "base_uri": "https://localhost:8080/"
        }
      },
      "source": [
        "s = \"I love Coding\"\n",
        "\n",
        "for i in reversed(s):\n",
        "  print(i, end='')"
      ],
      "execution_count": 2,
      "outputs": [
        {
          "output_type": "stream",
          "text": [
            "gnidoC evol I"
          ],
          "name": "stdout"
        }
      ]
    },
    {
      "cell_type": "code",
      "metadata": {
        "id": "sH2zDiXsBRir",
        "outputId": "3725b70f-e467-4261-8016-73cfd945d8c2",
        "colab": {
          "base_uri": "https://localhost:8080/"
        }
      },
      "source": [
        "s = \"I love Coding\"\n",
        "s1 = s[::-1]\n",
        "print(s1)"
      ],
      "execution_count": 45,
      "outputs": [
        {
          "output_type": "stream",
          "text": [
            "gnidoC evol I\n"
          ],
          "name": "stdout"
        }
      ]
    },
    {
      "cell_type": "code",
      "metadata": {
        "id": "rsszFkm7Eyix",
        "outputId": "8c87f316-ceed-4c3a-8b43-b24671322e2b",
        "colab": {
          "base_uri": "https://localhost:8080/"
        }
      },
      "source": [
        "def find_pairs(l, x):\n",
        "  pairs = []\n",
        "  for (i, el_1) in enumerate(l):\n",
        "    for (j, el_2) in enumerate(l[i+1:]):\n",
        "      if el_1 + el_2 == x:\n",
        "        pairs.append((el_1, el_2))\n",
        "  return pairs\n",
        "l = [1,2,3,4,5,6,7,0]\n",
        "print(find_pairs(l, 10))"
      ],
      "execution_count": 50,
      "outputs": [
        {
          "output_type": "stream",
          "text": [
            "[(3, 7), (4, 6)]\n"
          ],
          "name": "stdout"
        }
      ]
    },
    {
      "cell_type": "markdown",
      "metadata": {
        "id": "EQw2dxYguaRr"
      },
      "source": [
        "**Palindrome check**"
      ]
    },
    {
      "cell_type": "code",
      "metadata": {
        "id": "a8kBajLjuY7b",
        "outputId": "6b8ff5b8-0493-4c9b-f1b2-1dd8178bbadb",
        "colab": {
          "base_uri": "https://localhost:8080/"
        }
      },
      "source": [
        "s = \"ballab\"\n",
        "for i in range(int(len(s)/2)):\n",
        "  # print(s[i], s[len(s)-i-1])\n",
        "  if s[i] != s[len(s)-i-1]:\n",
        "    print(\"Not palindrome\")\n",
        "    break\n",
        "  \n",
        "else:\n",
        "  print(\"palindrome\")"
      ],
      "execution_count": 22,
      "outputs": [
        {
          "output_type": "stream",
          "text": [
            "palindrome\n"
          ],
          "name": "stdout"
        }
      ]
    },
    {
      "cell_type": "code",
      "metadata": {
        "id": "Uu18c2o0xhqG",
        "outputId": "d1af5e27-fb11-497f-ea62-e3a394a0b471",
        "colab": {
          "base_uri": "https://localhost:8080/"
        }
      },
      "source": [
        "s = \"ballab\"\n",
        "if s == s[::-1]:\n",
        "  print(\"palindrome\")\n",
        "else:\n",
        "  print(\"not palindrome\")"
      ],
      "execution_count": 25,
      "outputs": [
        {
          "output_type": "stream",
          "text": [
            "palindrome\n"
          ],
          "name": "stdout"
        }
      ]
    },
    {
      "cell_type": "code",
      "metadata": {
        "id": "iEQcXBJDyAMc",
        "outputId": "61662aa5-ffb4-4c5e-90fd-2666c6fd7b36",
        "colab": {
          "base_uri": "https://localhost:8080/"
        }
      },
      "source": [
        "s = \"saraaras\"\n",
        "s2 = []\n",
        "for i in reversed(s):\n",
        "  s2.append(i)\n",
        "s2 = ''.join(s2)\n",
        "\n",
        "if s==s2:\n",
        "  print(\"palindrome\")\n",
        "else:\n",
        "  print(\"not palindrome\")"
      ],
      "execution_count": 40,
      "outputs": [
        {
          "output_type": "stream",
          "text": [
            "saraaras\n",
            "palindrome\n"
          ],
          "name": "stdout"
        }
      ]
    },
    {
      "cell_type": "markdown",
      "metadata": {
        "id": "GNfYdOdqJvPP"
      },
      "source": [
        "**checking subsequece(maintains oder)**"
      ]
    },
    {
      "cell_type": "code",
      "metadata": {
        "id": "elfz6GJYJ18r",
        "outputId": "1ce8a62d-6708-4ef2-897c-1500b596ad49",
        "colab": {
          "base_uri": "https://localhost:8080/"
        }
      },
      "source": [
        "def is_subsequence(x,y):\n",
        "  if len(x)>len(y):\n",
        "    s = x\n",
        "    sub = y\n",
        "  else:\n",
        "    s = y\n",
        "    sub = x\n",
        "\n",
        "  len_s = len(s)\n",
        "  len_sub = len(sub)\n",
        "  s_index = 0 \n",
        "  sub_index = 0\n",
        "\n",
        "  while sub_index < len_sub and s_index < len_s:\n",
        "    if sub[sub_index] == s[s_index]:\n",
        "      sub_index += 1\n",
        "    s_index += 1\n",
        "  if sub_index == len_sub:\n",
        "    return True\n",
        "  else:\n",
        "    return False\n",
        "\n",
        "p = is_subsequence(\"acx\", \"axca\")\n",
        "print(p)"
      ],
      "execution_count": 60,
      "outputs": [
        {
          "output_type": "stream",
          "text": [
            "False\n"
          ],
          "name": "stdout"
        }
      ]
    },
    {
      "cell_type": "markdown",
      "metadata": {
        "id": "MHPrUH_IV3G6"
      },
      "source": [
        "**Valid Plaindrome**"
      ]
    },
    {
      "cell_type": "code",
      "metadata": {
        "id": "aM-HiX4oRe4B",
        "outputId": "b93bc638-2127-4bd5-8d24-f74f7726de1c",
        "colab": {
          "base_uri": "https://localhost:8080/"
        }
      },
      "source": [
        "s = \"A man, a plan, a canal: Panama\"\n",
        "l=[]\n",
        "for i in s:\n",
        "  if i.isalnum():\n",
        "    i = i.lower()\n",
        "    l.append(i)\n",
        "s1= \"\".join(l)\n",
        "if s1 == s1[::-1]:\n",
        "  return True\n",
        "else:\n",
        "  return False\n",
        "print(s1)"
      ],
      "execution_count": 69,
      "outputs": [
        {
          "output_type": "stream",
          "text": [
            "amanaplanacanalpanama\n"
          ],
          "name": "stdout"
        }
      ]
    },
    {
      "cell_type": "markdown",
      "metadata": {
        "id": "NRC6o5EKWAQz"
      },
      "source": [
        "**isomorphic string**\n",
        "\n",
        "Two strings s and t are isomorphic if the characters in s can be replaced to get t.\n",
        "\n",
        "All occurrences of a character must be replaced with another character while preserving the order of characters. No two characters may map to the same character, but a character may map to itself."
      ]
    },
    {
      "cell_type": "code",
      "metadata": {
        "id": "-OZ4pp_ZT5IE",
        "outputId": "14b62692-599b-4411-9432-ad6426e5194d",
        "colab": {
          "base_uri": "https://localhost:8080/"
        }
      },
      "source": [
        "s = \"paper\"\n",
        "t = \"title\"\n",
        "s1 = \"bbbaaabac\"\n",
        "t1 = \"aaabbbbaa\"\n",
        "def isIsomorphic(s: str, t: str) -> bool:\n",
        "  if len(set(s)) == len((set(t))) == len(set(zip(s,t))):\n",
        "    return True\n",
        "  else:\n",
        "    return False\n",
        "\n",
        "print(isIsomorphic(s,t))\n",
        "print(isIsomorphic(s1,t1))"
      ],
      "execution_count": 83,
      "outputs": [
        {
          "output_type": "stream",
          "text": [
            "True\n",
            "False\n"
          ],
          "name": "stdout"
        }
      ]
    }
  ]
}