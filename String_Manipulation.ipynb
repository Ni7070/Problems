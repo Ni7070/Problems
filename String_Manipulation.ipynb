{
  "nbformat": 4,
  "nbformat_minor": 0,
  "metadata": {
    "colab": {
      "name": "String Manipulation.ipynb",
      "provenance": [],
      "authorship_tag": "ABX9TyMYEefVHsV7sbNrnLfAZucz",
      "include_colab_link": true
    },
    "kernelspec": {
      "name": "python3",
      "display_name": "Python 3"
    },
    "language_info": {
      "name": "python"
    }
  },
  "cells": [
    {
      "cell_type": "markdown",
      "metadata": {
        "id": "view-in-github",
        "colab_type": "text"
      },
      "source": [
        "<a href=\"https://colab.research.google.com/github/Ni7070/Problems/blob/master/String_Manipulation.ipynb\" target=\"_parent\"><img src=\"https://colab.research.google.com/assets/colab-badge.svg\" alt=\"Open In Colab\"/></a>"
      ]
    },
    {
      "cell_type": "markdown",
      "metadata": {
        "id": "m3v0yQpWCeis"
      },
      "source": [
        "Count the occurance of each charater in a string"
      ]
    },
    {
      "cell_type": "code",
      "metadata": {
        "colab": {
          "base_uri": "https://localhost:8080/"
        },
        "id": "nn3XwAOxBtdf",
        "outputId": "fe7aab4b-8e80-4c56-a025-ce7a445f0c93"
      },
      "source": [
        "import collections\n",
        "s = 'My Name Is Nishat'\n",
        "result = collections.Counter(s)\n",
        "print(result)"
      ],
      "execution_count": 3,
      "outputs": [
        {
          "output_type": "stream",
          "text": [
            "Counter({' ': 3, 'N': 2, 'a': 2, 's': 2, 'M': 1, 'y': 1, 'm': 1, 'e': 1, 'I': 1, 'i': 1, 'h': 1, 't': 1})\n"
          ],
          "name": "stdout"
        }
      ]
    },
    {
      "cell_type": "code",
      "metadata": {
        "colab": {
          "base_uri": "https://localhost:8080/"
        },
        "id": "KObGVrziCeFW",
        "outputId": "3b7aa39e-e9b0-41b0-9012-f7427d942a25"
      },
      "source": [
        "dic = {}\n",
        "for i in s:\n",
        "  if i in dic.keys():\n",
        "    dic[i] += 1\n",
        "  else:\n",
        "    dic[i] = 1\n",
        "# for i in dic.items():\n",
        "#   print(i)\n",
        "print(dic)"
      ],
      "execution_count": 6,
      "outputs": [
        {
          "output_type": "stream",
          "text": [
            "{'M': 1, 'y': 1, ' ': 3, 'N': 2, 'a': 2, 'm': 1, 'e': 1, 'I': 1, 's': 2, 'i': 1, 'h': 1, 't': 1}\n"
          ],
          "name": "stdout"
        }
      ]
    },
    {
      "cell_type": "markdown",
      "metadata": {
        "id": "eR-IuQuCFVtB"
      },
      "source": [
        "count the duplicate strings"
      ]
    },
    {
      "cell_type": "code",
      "metadata": {
        "colab": {
          "base_uri": "https://localhost:8080/"
        },
        "id": "qKG4SvQqFdtF",
        "outputId": "1dff367b-bf98-4b7f-870e-e9e3afdc0cc6"
      },
      "source": [
        "for i in dic:\n",
        "  if dic[i]>1:\n",
        "    print(i, dic[i])"
      ],
      "execution_count": 18,
      "outputs": [
        {
          "output_type": "stream",
          "text": [
            "  3\n",
            "N 2\n",
            "a 2\n",
            "s 2\n"
          ],
          "name": "stdout"
        }
      ]
    },
    {
      "cell_type": "code",
      "metadata": {
        "colab": {
          "base_uri": "https://localhost:8080/"
        },
        "id": "LzTcCaiiJf1a",
        "outputId": "126144ac-2a87-4d50-83e7-2f7e1ab2c6f1"
      },
      "source": [
        "s = \"Bring-me-a-glass-of-water\"\n",
        "dicti = {}\n",
        "for i in s:\n",
        "  if i in dicti.keys():\n",
        "    dicti[i] += 1\n",
        "  else:\n",
        "    dicti[i] = 1\n",
        "print(dicti)\n",
        "\n",
        "for i in dicti:\n",
        "  if dicti[i]>1:\n",
        "    print(i, sep=' ', end=' ')"
      ],
      "execution_count": 27,
      "outputs": [
        {
          "output_type": "stream",
          "text": [
            "{'B': 1, 'r': 2, 'i': 1, 'n': 1, 'g': 2, '-': 5, 'm': 1, 'e': 2, 'a': 3, 'l': 1, 's': 2, 'o': 1, 'f': 1, 'w': 1, 't': 1}\n",
            "r g - e a s "
          ],
          "name": "stdout"
        }
      ]
    },
    {
      "cell_type": "markdown",
      "metadata": {
        "id": "Co3YlKc1HiUP"
      },
      "source": [
        "Remove dulpicates from a string"
      ]
    },
    {
      "cell_type": "code",
      "metadata": {
        "colab": {
          "base_uri": "https://localhost:8080/"
        },
        "id": "zNjjvCOaHhR6",
        "outputId": "1d0e7776-4df9-41c3-c29b-acc026fe68ec"
      },
      "source": [
        "st = \"I love Bangladesh\"\n",
        "stSet = set(st)\n",
        "s1 = ''.join(stSet)\n",
        "print(s1)"
      ],
      "execution_count": 20,
      "outputs": [
        {
          "output_type": "stream",
          "text": [
            "slveB Iaghdno\n"
          ],
          "name": "stdout"
        }
      ]
    },
    {
      "cell_type": "markdown",
      "metadata": {
        "id": "vjS6pkH9W_Zh"
      },
      "source": [
        "Check substring"
      ]
    },
    {
      "cell_type": "code",
      "metadata": {
        "colab": {
          "base_uri": "https://localhost:8080/"
        },
        "id": "tDjpIpu_IN5Y",
        "outputId": "f7f652d9-7aa1-4631-b35c-b98aedf67ef1"
      },
      "source": [
        "check = \"love\"\n",
        "s = 'I love Bangladesh'\n",
        "if check in s:\n",
        "  print(\"yes\")\n",
        "else:\n",
        "  print(\"no\")"
      ],
      "execution_count": 29,
      "outputs": [
        {
          "output_type": "stream",
          "text": [
            "no\n"
          ],
          "name": "stdout"
        }
      ]
    },
    {
      "cell_type": "markdown",
      "metadata": {
        "id": "lxlhNoNkXc2l"
      },
      "source": [
        "check occurance of a substring"
      ]
    },
    {
      "cell_type": "code",
      "metadata": {
        "colab": {
          "base_uri": "https://localhost:8080/"
        },
        "id": "0mqkZ4m7Xfvl",
        "outputId": "fd5a3e11-9b7f-4f56-d1f8-b9ea794ef7aa"
      },
      "source": [
        "check = \"lo\"\n",
        "s = \"I love lov  lo Bangladesh\"\n",
        "count = s.count(check) #start #end\n",
        "print(count)"
      ],
      "execution_count": 45,
      "outputs": [
        {
          "output_type": "stream",
          "text": [
            "3\n"
          ],
          "name": "stdout"
        }
      ]
    },
    {
      "cell_type": "code",
      "metadata": {
        "colab": {
          "base_uri": "https://localhost:8080/"
        },
        "id": "h37re4npZfbQ",
        "outputId": "874fcf7e-7581-4d40-a4f8-6c196d61b2a1"
      },
      "source": [
        "def count_substring(string,sub_string):\n",
        "    count=0\n",
        "    l = len(string)-len(sub_string)+1\n",
        "    print(l)\n",
        "    for i in range(len(string)-len(sub_string)+1):\n",
        "        if(string[i:i+len(sub_string)] == sub_string ):      \n",
        "            count+=1\n",
        "    return count  \n",
        "print(count_substring('loolvelove', 'lo'))"
      ],
      "execution_count": 51,
      "outputs": [
        {
          "output_type": "stream",
          "text": [
            "9\n",
            "2\n"
          ],
          "name": "stdout"
        }
      ]
    }
  ]
}