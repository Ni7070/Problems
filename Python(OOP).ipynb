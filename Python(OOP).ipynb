{
  "nbformat": 4,
  "nbformat_minor": 0,
  "metadata": {
    "colab": {
      "name": "Python(OOP)",
      "provenance": [],
      "authorship_tag": "ABX9TyMRKOvwZH8M0eP7qKnYuOJv",
      "include_colab_link": true
    },
    "kernelspec": {
      "name": "python3",
      "display_name": "Python 3"
    },
    "language_info": {
      "name": "python"
    }
  },
  "cells": [
    {
      "cell_type": "markdown",
      "metadata": {
        "id": "view-in-github",
        "colab_type": "text"
      },
      "source": [
        "<a href=\"https://colab.research.google.com/github/Ni7070/Problems/blob/master/Python(OOP).ipynb\" target=\"_parent\"><img src=\"https://colab.research.google.com/assets/colab-badge.svg\" alt=\"Open In Colab\"/></a>"
      ]
    },
    {
      "cell_type": "code",
      "metadata": {
        "colab": {
          "base_uri": "https://localhost:8080/"
        },
        "id": "Hsxr4Hh6V1uV",
        "outputId": "42720841-e87b-4839-e86d-1b5b7f63a8f6"
      },
      "source": [
        "class Student:\n",
        "  def __init__(self, name, age, grade):\n",
        "    self.name = name\n",
        "    self.age = age\n",
        "    self.grade = grade\n",
        "  \n",
        "  def get_grade(self):\n",
        "    return self.grade\n",
        "  \n",
        "class Course:\n",
        "  def __init__(self, name, max_students):\n",
        "    self.name = name\n",
        "    self.max_students = max_students\n",
        "    self.students = []\n",
        "\n",
        "  def add_student(self, student):\n",
        "    if len(self.students) < self.max_students:\n",
        "      self.students.append(student)\n",
        "      return True\n",
        "    return False\n",
        "\n",
        "  def get_average_grade(self):\n",
        "    value = 0\n",
        "    for i in self.students:\n",
        "      value += i.get_grade()\n",
        "    return value/len(self.students)\n",
        "    \n",
        "\n",
        "s1 = Student(\"Tim\", 13, 84)\n",
        "s2 = Student(\"Becky\", 12, 77)\n",
        "s3 = Student(\"Ashley\", 14, 94)\n",
        "\n",
        "course = Course(\"Science\", 2)\n",
        "course.add_student(s1)\n",
        "course.add_student(s2)\n",
        "print(course.get_average_grade())\n"
      ],
      "execution_count": 19,
      "outputs": [
        {
          "output_type": "stream",
          "text": [
            "80.5\n"
          ],
          "name": "stdout"
        }
      ]
    },
    {
      "cell_type": "code",
      "metadata": {
        "id": "0YvAP3sClKF1"
      },
      "source": [
        "class Cat:\n",
        "  def __init__(self, name, age):\n",
        "    self.name = name     \n",
        "    self.age = age\n",
        "  \n",
        "  def speak(self):\n",
        "    print(\"Meaw\")\n",
        "\n",
        "class Dog:\n",
        "  def __init__(self, name, age):\n",
        "    self.name = name     \n",
        "    self.age = age\n",
        "  \n",
        "  def speak(self):\n",
        "    print(\"Bark\")"
      ],
      "execution_count": null,
      "outputs": []
    },
    {
      "cell_type": "code",
      "metadata": {
        "colab": {
          "base_uri": "https://localhost:8080/"
        },
        "id": "MC7VG0OLpSIE",
        "outputId": "ad3efa80-26ac-4ce6-8b0e-212dc2516ccd"
      },
      "source": [
        "#Inheritance\n",
        "class Pet:\n",
        "  def __init__(self, name, age):\n",
        "    self.name = name     \n",
        "    self.age = age\n",
        "  def show(self):\n",
        "    print(\"i am\", self.name, \"and I am\", self.age, \"years old\")\n",
        "  def speak(self):\n",
        "    print(\"i don't speak\")\n",
        "\n",
        "class Cat(Pet):\n",
        "  def __init__(self, name, age, color): #calling super class\n",
        "    super().__init__(name, age)\n",
        "    self.color = color\n",
        "  \n",
        "  def show(self): #override\n",
        "    print(\"i am\", self.name, \"and I am\", self.age, \"years old and I am\", self.color, \"in color.\")\n",
        "\n",
        "  def speak(self): #method override\n",
        "    print(\"**Meaw**\")\n",
        "\n",
        "class Dog(Pet):\n",
        "  def speak(self):  #method override\n",
        "    print(\":>Bark:>\")\n",
        "\n",
        "class Fish(Pet):\n",
        "  pass\n",
        "\n",
        "p = Pet(\"Shijo\", 14)\n",
        "p.show()\n",
        "\n",
        "c = Cat(\"Bilu\", 5, \"White\")\n",
        "c.show()\n",
        "c.speak()\n",
        "\n",
        "d = Dog(\"Shiba\", 7)\n",
        "d.show()\n",
        "d.speak()\n",
        "\n",
        "f = Fish(\"Bubble\", 2)\n",
        "f.show()\n",
        "f.speak()"
      ],
      "execution_count": 29,
      "outputs": [
        {
          "output_type": "stream",
          "text": [
            "i am Shijo and I am 14 years old\n",
            "i am Bilu and I am 5 years old and I am White in color.\n",
            "**Meaw**\n",
            "i am Shiba and I am 7 years old\n",
            ":>Bark:>\n",
            "i am Bubble and I am 2 years old\n",
            "i don't speak\n"
          ],
          "name": "stdout"
        }
      ]
    },
    {
      "cell_type": "code",
      "metadata": {
        "colab": {
          "base_uri": "https://localhost:8080/"
        },
        "id": "RD5Uxw3uyJHX",
        "outputId": "2b4ae849-2b55-40aa-e018-42047ca1536c"
      },
      "source": [
        "class Person:\n",
        "  no_of_people = 0 #accessible to all class attribute\n",
        "\n",
        "  def __init__(self, name):\n",
        "    self.name = name\n",
        "    Person.no_of_people += 1\n",
        "\n",
        "p1 = Person(\"Tim\")\n",
        "print(Person.no_of_people)\n",
        "p2 = Person(\"Jemmy\")\n",
        "print(Person.no_of_people)\n",
        "\n",
        "# Person.no_of_people = 8\n",
        "\n",
        "# print(p2.no_of_people)\n",
        "# print(p1.no_of_people)\n",
        "\n"
      ],
      "execution_count": 36,
      "outputs": [
        {
          "output_type": "stream",
          "text": [
            "1\n",
            "2\n"
          ],
          "name": "stdout"
        }
      ]
    }
  ]
}